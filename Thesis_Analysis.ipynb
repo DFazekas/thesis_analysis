{
  "nbformat": 4,
  "nbformat_minor": 0,
  "metadata": {
    "colab": {
      "provenance": [],
      "collapsed_sections": [],
      "authorship_tag": "ABX9TyOR7Uj5keewSW6Bv8VQdRPK",
      "include_colab_link": true
    },
    "kernelspec": {
      "name": "python3",
      "display_name": "Python 3"
    },
    "language_info": {
      "name": "python"
    }
  },
  "cells": [
    {
      "cell_type": "markdown",
      "metadata": {
        "id": "view-in-github",
        "colab_type": "text"
      },
      "source": [
        "<a href=\"https://colab.research.google.com/github/DFazekas/thesis_analysis/blob/main/Thesis_Analysis.ipynb\" target=\"_parent\"><img src=\"https://colab.research.google.com/assets/colab-badge.svg\" alt=\"Open In Colab\"/></a>"
      ]
    },
    {
      "cell_type": "code",
      "execution_count": 2,
      "metadata": {
        "id": "IVGovAfJpp2R"
      },
      "outputs": [],
      "source": [
        "import pandas as pd\n",
        "import numpy as np\n",
        "import statsmodels.api as sm\n",
        "from statsmodels.formula.api import ols\n",
        "import scipy.stats as stats"
      ]
    },
    {
      "cell_type": "markdown",
      "source": [
        "# Import data\n",
        "First, important the data and ensure all columns have equal non-null rows."
      ],
      "metadata": {
        "id": "1y5Lal6fqoCe"
      }
    },
    {
      "cell_type": "code",
      "source": [
        "df = pd.read_csv(\"data.csv\")\n",
        "df.info()"
      ],
      "metadata": {
        "colab": {
          "base_uri": "https://localhost:8080/"
        },
        "id": "9on_HogWrvMv",
        "outputId": "97e88bb1-57fc-41a2-abe6-2f8eb0b10f1b"
      },
      "execution_count": 3,
      "outputs": [
        {
          "output_type": "stream",
          "name": "stdout",
          "text": [
            "<class 'pandas.core.frame.DataFrame'>\n",
            "RangeIndex: 270 entries, 0 to 269\n",
            "Data columns (total 12 columns):\n",
            " #   Column         Non-Null Count  Dtype  \n",
            "---  ------         --------------  -----  \n",
            " 0   Demand         270 non-null    object \n",
            " 1   Penetration    270 non-null    object \n",
            " 2   Travel Time    270 non-null    int64  \n",
            " 3   Run            270 non-null    int64  \n",
            " 4   Waiting Time   270 non-null    int64  \n",
            " 5   Time Loss      270 non-null    float64\n",
            " 6   Waiting Count  270 non-null    int64  \n",
            " 7   Average Speed  270 non-null    float64\n",
            " 8   Crossing       270 non-null    int64  \n",
            " 9   Following      270 non-null    int64  \n",
            " 10  Merging        270 non-null    int64  \n",
            " 11  RTT            270 non-null    int64  \n",
            "dtypes: float64(2), int64(8), object(2)\n",
            "memory usage: 25.4+ KB\n"
          ]
        }
      ]
    },
    {
      "cell_type": "markdown",
      "source": [
        "# Testing ANOVA Assumptions\n",
        "Before we perform a Brown-Forsythe test, we can calculate the variance of the plant measurements in each group."
      ],
      "metadata": {
        "id": "IGJlHC1mxlbi"
      }
    },
    {
      "cell_type": "code",
      "source": [
        "group_control = df[df['Penetration'] == 'Control']['RTT']\n",
        "group_minority = df[df['Penetration'] == 'Minority']['RTT']\n",
        "group_half = df[df['Penetration'] == 'Half']['RTT']\n",
        "\n",
        "print(f\"Control variance: {np.var(group_control)}\")\n",
        "print(f\"Minority variance: {np.var(group_minority)}\")\n",
        "print(f\"Half variance: {np.var(group_half)}\")"
      ],
      "metadata": {
        "colab": {
          "base_uri": "https://localhost:8080/"
        },
        "id": "b0sQE6SDxu17",
        "outputId": "ba3e3bd9-da39-41d9-a1a9-9914951dc29c"
      },
      "execution_count": 21,
      "outputs": [
        {
          "output_type": "stream",
          "name": "stdout",
          "text": [
            "Control variance: 221.2277777777778\n",
            "Minority variance: 227.9506172839506\n",
            "Half variance: 174.16555555555556\n"
          ]
        }
      ]
    },
    {
      "cell_type": "markdown",
      "source": [
        "We can see that the variances between the groups differ, but to determine if these differences are statistically significant we can perform the Brown-Forsythe test.\n",
        "\n",
        "If we fail to reject the null hypothesis of the Brown-Forsythe Test, then we can proceed to perform a one-way ANOVA on the data."
      ],
      "metadata": {
        "id": "CdFPSLL-yexb"
      }
    },
    {
      "cell_type": "code",
      "source": [
        "stats.levene(group_control, group_minority, group_half, center='median')"
      ],
      "metadata": {
        "colab": {
          "base_uri": "https://localhost:8080/"
        },
        "id": "hVPOjI3HyLAJ",
        "outputId": "9a9c9a28-b23d-4fd2-9f42-b207d54fe284"
      },
      "execution_count": 22,
      "outputs": [
        {
          "output_type": "execute_result",
          "data": {
            "text/plain": [
              "LeveneResult(statistic=1.8046154775204561, pvalue=0.16653876880143142)"
            ]
          },
          "metadata": {},
          "execution_count": 22
        }
      ]
    },
    {
      "cell_type": "markdown",
      "source": [
        "The p-value of the test turns out to be greater than .05, so we fail to reject the null hypothesis of the test. The differences in the variances between the groups is not statistically significant. Therefore, we can proceed with ANOVA."
      ],
      "metadata": {
        "id": "_fnFjhloyvHV"
      }
    },
    {
      "cell_type": "markdown",
      "source": [
        "# Two-way ANOVA test\n",
        "Use a two-way ANOVA test to see if the means between groups are statistically different. This is achieved by reviewing the p-value in the ANOVA results; p-values < 0.05 are statistically significant."
      ],
      "metadata": {
        "id": "yRVOMzFHrQ-f"
      }
    },
    {
      "cell_type": "code",
      "source": [
        "model = ols('RTT ~ Demand + Penetration +\\\n",
        "            Demand*Penetration', data=df).fit()\n",
        "sm.stats.anova_lm(model, typ=2)"
      ],
      "metadata": {
        "colab": {
          "base_uri": "https://localhost:8080/",
          "height": 175
        },
        "id": "Ptg7vzVmr-eV",
        "outputId": "936d178a-e967-4ae8-decd-27fc18a25a08"
      },
      "execution_count": 11,
      "outputs": [
        {
          "output_type": "execute_result",
          "data": {
            "text/plain": [
              "                          sum_sq     df           F        PR(>F)\n",
              "Demand              28668.007407    2.0  138.210537  1.162837e-41\n",
              "Penetration          1819.918519    2.0    8.773959  2.051857e-04\n",
              "Demand:Penetration    364.281481    4.0    0.878114  4.775200e-01\n",
              "Residual            27068.666667  261.0         NaN           NaN"
            ],
            "text/html": [
              "\n",
              "  <div id=\"df-7120a212-6958-4af2-91a4-889f208813f2\">\n",
              "    <div class=\"colab-df-container\">\n",
              "      <div>\n",
              "<style scoped>\n",
              "    .dataframe tbody tr th:only-of-type {\n",
              "        vertical-align: middle;\n",
              "    }\n",
              "\n",
              "    .dataframe tbody tr th {\n",
              "        vertical-align: top;\n",
              "    }\n",
              "\n",
              "    .dataframe thead th {\n",
              "        text-align: right;\n",
              "    }\n",
              "</style>\n",
              "<table border=\"1\" class=\"dataframe\">\n",
              "  <thead>\n",
              "    <tr style=\"text-align: right;\">\n",
              "      <th></th>\n",
              "      <th>sum_sq</th>\n",
              "      <th>df</th>\n",
              "      <th>F</th>\n",
              "      <th>PR(&gt;F)</th>\n",
              "    </tr>\n",
              "  </thead>\n",
              "  <tbody>\n",
              "    <tr>\n",
              "      <th>Demand</th>\n",
              "      <td>28668.007407</td>\n",
              "      <td>2.0</td>\n",
              "      <td>138.210537</td>\n",
              "      <td>1.162837e-41</td>\n",
              "    </tr>\n",
              "    <tr>\n",
              "      <th>Penetration</th>\n",
              "      <td>1819.918519</td>\n",
              "      <td>2.0</td>\n",
              "      <td>8.773959</td>\n",
              "      <td>2.051857e-04</td>\n",
              "    </tr>\n",
              "    <tr>\n",
              "      <th>Demand:Penetration</th>\n",
              "      <td>364.281481</td>\n",
              "      <td>4.0</td>\n",
              "      <td>0.878114</td>\n",
              "      <td>4.775200e-01</td>\n",
              "    </tr>\n",
              "    <tr>\n",
              "      <th>Residual</th>\n",
              "      <td>27068.666667</td>\n",
              "      <td>261.0</td>\n",
              "      <td>NaN</td>\n",
              "      <td>NaN</td>\n",
              "    </tr>\n",
              "  </tbody>\n",
              "</table>\n",
              "</div>\n",
              "      <button class=\"colab-df-convert\" onclick=\"convertToInteractive('df-7120a212-6958-4af2-91a4-889f208813f2')\"\n",
              "              title=\"Convert this dataframe to an interactive table.\"\n",
              "              style=\"display:none;\">\n",
              "        \n",
              "  <svg xmlns=\"http://www.w3.org/2000/svg\" height=\"24px\"viewBox=\"0 0 24 24\"\n",
              "       width=\"24px\">\n",
              "    <path d=\"M0 0h24v24H0V0z\" fill=\"none\"/>\n",
              "    <path d=\"M18.56 5.44l.94 2.06.94-2.06 2.06-.94-2.06-.94-.94-2.06-.94 2.06-2.06.94zm-11 1L8.5 8.5l.94-2.06 2.06-.94-2.06-.94L8.5 2.5l-.94 2.06-2.06.94zm10 10l.94 2.06.94-2.06 2.06-.94-2.06-.94-.94-2.06-.94 2.06-2.06.94z\"/><path d=\"M17.41 7.96l-1.37-1.37c-.4-.4-.92-.59-1.43-.59-.52 0-1.04.2-1.43.59L10.3 9.45l-7.72 7.72c-.78.78-.78 2.05 0 2.83L4 21.41c.39.39.9.59 1.41.59.51 0 1.02-.2 1.41-.59l7.78-7.78 2.81-2.81c.8-.78.8-2.07 0-2.86zM5.41 20L4 18.59l7.72-7.72 1.47 1.35L5.41 20z\"/>\n",
              "  </svg>\n",
              "      </button>\n",
              "      \n",
              "  <style>\n",
              "    .colab-df-container {\n",
              "      display:flex;\n",
              "      flex-wrap:wrap;\n",
              "      gap: 12px;\n",
              "    }\n",
              "\n",
              "    .colab-df-convert {\n",
              "      background-color: #E8F0FE;\n",
              "      border: none;\n",
              "      border-radius: 50%;\n",
              "      cursor: pointer;\n",
              "      display: none;\n",
              "      fill: #1967D2;\n",
              "      height: 32px;\n",
              "      padding: 0 0 0 0;\n",
              "      width: 32px;\n",
              "    }\n",
              "\n",
              "    .colab-df-convert:hover {\n",
              "      background-color: #E2EBFA;\n",
              "      box-shadow: 0px 1px 2px rgba(60, 64, 67, 0.3), 0px 1px 3px 1px rgba(60, 64, 67, 0.15);\n",
              "      fill: #174EA6;\n",
              "    }\n",
              "\n",
              "    [theme=dark] .colab-df-convert {\n",
              "      background-color: #3B4455;\n",
              "      fill: #D2E3FC;\n",
              "    }\n",
              "\n",
              "    [theme=dark] .colab-df-convert:hover {\n",
              "      background-color: #434B5C;\n",
              "      box-shadow: 0px 1px 3px 1px rgba(0, 0, 0, 0.15);\n",
              "      filter: drop-shadow(0px 1px 2px rgba(0, 0, 0, 0.3));\n",
              "      fill: #FFFFFF;\n",
              "    }\n",
              "  </style>\n",
              "\n",
              "      <script>\n",
              "        const buttonEl =\n",
              "          document.querySelector('#df-7120a212-6958-4af2-91a4-889f208813f2 button.colab-df-convert');\n",
              "        buttonEl.style.display =\n",
              "          google.colab.kernel.accessAllowed ? 'block' : 'none';\n",
              "\n",
              "        async function convertToInteractive(key) {\n",
              "          const element = document.querySelector('#df-7120a212-6958-4af2-91a4-889f208813f2');\n",
              "          const dataTable =\n",
              "            await google.colab.kernel.invokeFunction('convertToInteractive',\n",
              "                                                     [key], {});\n",
              "          if (!dataTable) return;\n",
              "\n",
              "          const docLinkHtml = 'Like what you see? Visit the ' +\n",
              "            '<a target=\"_blank\" href=https://colab.research.google.com/notebooks/data_table.ipynb>data table notebook</a>'\n",
              "            + ' to learn more about interactive tables.';\n",
              "          element.innerHTML = '';\n",
              "          dataTable['output_type'] = 'display_data';\n",
              "          await google.colab.output.renderOutput(dataTable, element);\n",
              "          const docLink = document.createElement('div');\n",
              "          docLink.innerHTML = docLinkHtml;\n",
              "          element.appendChild(docLink);\n",
              "        }\n",
              "      </script>\n",
              "    </div>\n",
              "  </div>\n",
              "  "
            ]
          },
          "metadata": {},
          "execution_count": 11
        }
      ]
    },
    {
      "cell_type": "markdown",
      "source": [
        "From the above graph, both factors can be seen to have p-values below 0.05. This implies that the variances in the factors can be explained by the different treatments. However, the interaction between the factors has a p-value > 0.05, thus, they do not interaction.\n",
        "\n",
        "But this does not tell us where they're the differences are within the factors. For that, a post hoc test is required.\n",
        "\n",
        "When the ANOVA is significant, post hoc tests are used to see differences between specific groups. post hoc tests control the family-wise error rate (inflated type I error rate) due to multiple comparisons. post hoc tests adjust the p values (Bonferroni correction) or critical value (Tukey’s HSD test)."
      ],
      "metadata": {
        "id": "K4-KCqMB46dB"
      }
    },
    {
      "cell_type": "markdown",
      "source": [
        "# Post Hoc Tests\n",
        "\n",
        "Given our 3 levels of penetration [Control, Minority, Half], there are 3 possible pair-wise combinations:\n",
        "1. Control x Minority\n",
        "2. Minority x Half\n",
        "3. Control x Half\n",
        "\n",
        "With only 3 comparisons and a 5% confidence interval, our **family-wise error rate** is 0.1426, computed by: $$1-(1-\\alpha )^\\text{comparisons}$$"
      ],
      "metadata": {
        "id": "JmEfLVVM6J8F"
      }
    },
    {
      "cell_type": "code",
      "source": [
        "pair_t = model.t_test_pairwise('Penetration')\n",
        "pair_t.result_frame"
      ],
      "metadata": {
        "colab": {
          "base_uri": "https://localhost:8080/",
          "height": 143
        },
        "id": "AOde0M60-M46",
        "outputId": "17e67f4c-1f74-402f-c104-deac66de6bb5"
      },
      "execution_count": 18,
      "outputs": [
        {
          "output_type": "execute_result",
          "data": {
            "text/plain": [
              "                      coef   std err         t     P>|t|  Conf. Int. Low  \\\n",
              "Half-Control     -9.866667  2.629466 -3.752346  0.000216      -15.044334   \n",
              "Minority-Control -4.300000  2.629466 -1.635313  0.103189       -9.477667   \n",
              "Minority-Half     5.566667  2.629466  2.117033  0.035203        0.388999   \n",
              "\n",
              "                  Conf. Int. Upp.  pvalue-hs  reject-hs  \n",
              "Half-Control            -4.688999   0.000648       True  \n",
              "Minority-Control         0.877667   0.103189      False  \n",
              "Minority-Half           10.744334   0.069167      False  "
            ],
            "text/html": [
              "\n",
              "  <div id=\"df-3e219be9-12ad-42dc-a8ea-34a4a69b2380\">\n",
              "    <div class=\"colab-df-container\">\n",
              "      <div>\n",
              "<style scoped>\n",
              "    .dataframe tbody tr th:only-of-type {\n",
              "        vertical-align: middle;\n",
              "    }\n",
              "\n",
              "    .dataframe tbody tr th {\n",
              "        vertical-align: top;\n",
              "    }\n",
              "\n",
              "    .dataframe thead th {\n",
              "        text-align: right;\n",
              "    }\n",
              "</style>\n",
              "<table border=\"1\" class=\"dataframe\">\n",
              "  <thead>\n",
              "    <tr style=\"text-align: right;\">\n",
              "      <th></th>\n",
              "      <th>coef</th>\n",
              "      <th>std err</th>\n",
              "      <th>t</th>\n",
              "      <th>P&gt;|t|</th>\n",
              "      <th>Conf. Int. Low</th>\n",
              "      <th>Conf. Int. Upp.</th>\n",
              "      <th>pvalue-hs</th>\n",
              "      <th>reject-hs</th>\n",
              "    </tr>\n",
              "  </thead>\n",
              "  <tbody>\n",
              "    <tr>\n",
              "      <th>Half-Control</th>\n",
              "      <td>-9.866667</td>\n",
              "      <td>2.629466</td>\n",
              "      <td>-3.752346</td>\n",
              "      <td>0.000216</td>\n",
              "      <td>-15.044334</td>\n",
              "      <td>-4.688999</td>\n",
              "      <td>0.000648</td>\n",
              "      <td>True</td>\n",
              "    </tr>\n",
              "    <tr>\n",
              "      <th>Minority-Control</th>\n",
              "      <td>-4.300000</td>\n",
              "      <td>2.629466</td>\n",
              "      <td>-1.635313</td>\n",
              "      <td>0.103189</td>\n",
              "      <td>-9.477667</td>\n",
              "      <td>0.877667</td>\n",
              "      <td>0.103189</td>\n",
              "      <td>False</td>\n",
              "    </tr>\n",
              "    <tr>\n",
              "      <th>Minority-Half</th>\n",
              "      <td>5.566667</td>\n",
              "      <td>2.629466</td>\n",
              "      <td>2.117033</td>\n",
              "      <td>0.035203</td>\n",
              "      <td>0.388999</td>\n",
              "      <td>10.744334</td>\n",
              "      <td>0.069167</td>\n",
              "      <td>False</td>\n",
              "    </tr>\n",
              "  </tbody>\n",
              "</table>\n",
              "</div>\n",
              "      <button class=\"colab-df-convert\" onclick=\"convertToInteractive('df-3e219be9-12ad-42dc-a8ea-34a4a69b2380')\"\n",
              "              title=\"Convert this dataframe to an interactive table.\"\n",
              "              style=\"display:none;\">\n",
              "        \n",
              "  <svg xmlns=\"http://www.w3.org/2000/svg\" height=\"24px\"viewBox=\"0 0 24 24\"\n",
              "       width=\"24px\">\n",
              "    <path d=\"M0 0h24v24H0V0z\" fill=\"none\"/>\n",
              "    <path d=\"M18.56 5.44l.94 2.06.94-2.06 2.06-.94-2.06-.94-.94-2.06-.94 2.06-2.06.94zm-11 1L8.5 8.5l.94-2.06 2.06-.94-2.06-.94L8.5 2.5l-.94 2.06-2.06.94zm10 10l.94 2.06.94-2.06 2.06-.94-2.06-.94-.94-2.06-.94 2.06-2.06.94z\"/><path d=\"M17.41 7.96l-1.37-1.37c-.4-.4-.92-.59-1.43-.59-.52 0-1.04.2-1.43.59L10.3 9.45l-7.72 7.72c-.78.78-.78 2.05 0 2.83L4 21.41c.39.39.9.59 1.41.59.51 0 1.02-.2 1.41-.59l7.78-7.78 2.81-2.81c.8-.78.8-2.07 0-2.86zM5.41 20L4 18.59l7.72-7.72 1.47 1.35L5.41 20z\"/>\n",
              "  </svg>\n",
              "      </button>\n",
              "      \n",
              "  <style>\n",
              "    .colab-df-container {\n",
              "      display:flex;\n",
              "      flex-wrap:wrap;\n",
              "      gap: 12px;\n",
              "    }\n",
              "\n",
              "    .colab-df-convert {\n",
              "      background-color: #E8F0FE;\n",
              "      border: none;\n",
              "      border-radius: 50%;\n",
              "      cursor: pointer;\n",
              "      display: none;\n",
              "      fill: #1967D2;\n",
              "      height: 32px;\n",
              "      padding: 0 0 0 0;\n",
              "      width: 32px;\n",
              "    }\n",
              "\n",
              "    .colab-df-convert:hover {\n",
              "      background-color: #E2EBFA;\n",
              "      box-shadow: 0px 1px 2px rgba(60, 64, 67, 0.3), 0px 1px 3px 1px rgba(60, 64, 67, 0.15);\n",
              "      fill: #174EA6;\n",
              "    }\n",
              "\n",
              "    [theme=dark] .colab-df-convert {\n",
              "      background-color: #3B4455;\n",
              "      fill: #D2E3FC;\n",
              "    }\n",
              "\n",
              "    [theme=dark] .colab-df-convert:hover {\n",
              "      background-color: #434B5C;\n",
              "      box-shadow: 0px 1px 3px 1px rgba(0, 0, 0, 0.15);\n",
              "      filter: drop-shadow(0px 1px 2px rgba(0, 0, 0, 0.3));\n",
              "      fill: #FFFFFF;\n",
              "    }\n",
              "  </style>\n",
              "\n",
              "      <script>\n",
              "        const buttonEl =\n",
              "          document.querySelector('#df-3e219be9-12ad-42dc-a8ea-34a4a69b2380 button.colab-df-convert');\n",
              "        buttonEl.style.display =\n",
              "          google.colab.kernel.accessAllowed ? 'block' : 'none';\n",
              "\n",
              "        async function convertToInteractive(key) {\n",
              "          const element = document.querySelector('#df-3e219be9-12ad-42dc-a8ea-34a4a69b2380');\n",
              "          const dataTable =\n",
              "            await google.colab.kernel.invokeFunction('convertToInteractive',\n",
              "                                                     [key], {});\n",
              "          if (!dataTable) return;\n",
              "\n",
              "          const docLinkHtml = 'Like what you see? Visit the ' +\n",
              "            '<a target=\"_blank\" href=https://colab.research.google.com/notebooks/data_table.ipynb>data table notebook</a>'\n",
              "            + ' to learn more about interactive tables.';\n",
              "          element.innerHTML = '';\n",
              "          dataTable['output_type'] = 'display_data';\n",
              "          await google.colab.output.renderOutput(dataTable, element);\n",
              "          const docLink = document.createElement('div');\n",
              "          docLink.innerHTML = docLinkHtml;\n",
              "          element.appendChild(docLink);\n",
              "        }\n",
              "      </script>\n",
              "    </div>\n",
              "  </div>\n",
              "  "
            ]
          },
          "metadata": {},
          "execution_count": 18
        }
      ]
    },
    {
      "cell_type": "markdown",
      "source": [
        "From the table above, we see that only the Half-Control pairwise comparison for treatments rejects the null hypothesis (p < 0.05) and indiciates statistical significant differences.\n",
        "\n"
      ],
      "metadata": {
        "id": "CIxj1FUIwWbw"
      }
    }
  ]
}